{
 "cells": [
  {
   "cell_type": "markdown",
   "metadata": {},
   "source": []
  },
  {
   "cell_type": "markdown",
   "metadata": {},
   "source": [
    "# Orcid Adoption in Ireland\n",
    "*by Neil Tynan @ATU*\n",
    "\n",
    "![ORCiD](https://external-content.duckduckgo.com/iu/?u=https%3A%2F%2Fwww.infodocket.com%2Fwp-content%2Fuploads%2F2020%2F11%2F1200px-ORCID_logo.svg_.png&f=1&nofb=1&ipt=deaeedbc3fcf61e94115e9f869a818bc3bc936d6d83f98f831c3669dd21c1e63&ipo=images)\n",
    "###### *“Logo provided by ORCiD and used in line with the ORCID Brand Guidelines”*"
   ]
  },
  {
   "cell_type": "markdown",
   "metadata": {},
   "source": [
    "This assignment looks at something probably."
   ]
  },
  {
   "cell_type": "markdown",
   "metadata": {},
   "source": [
    "## Import Libraries\n",
    "---"
   ]
  },
  {
   "cell_type": "code",
   "execution_count": null,
   "metadata": {},
   "outputs": [],
   "source": [
    "import pandas as pd\n",
    "import numpy as np\n",
    "import matplotlib.pyplot as plt\n",
    "import seaborn as sns\n",
    "import datetime as dt\n",
    "import requests\n"
   ]
  },
  {
   "cell_type": "code",
   "execution_count": 146,
   "metadata": {},
   "outputs": [
    {
     "data": {
      "text/html": [
       "<div>\n",
       "<style scoped>\n",
       "    .dataframe tbody tr th:only-of-type {\n",
       "        vertical-align: middle;\n",
       "    }\n",
       "\n",
       "    .dataframe tbody tr th {\n",
       "        vertical-align: top;\n",
       "    }\n",
       "\n",
       "    .dataframe thead th {\n",
       "        text-align: right;\n",
       "    }\n",
       "</style>\n",
       "<table border=\"1\" class=\"dataframe\">\n",
       "  <thead>\n",
       "    <tr style=\"text-align: right;\">\n",
       "      <th></th>\n",
       "      <th>0</th>\n",
       "    </tr>\n",
       "  </thead>\n",
       "  <tbody>\n",
       "    <tr>\n",
       "      <th>0</th>\n",
       "      <td>b'You have exceeded the number of requests for...</td>\n",
       "    </tr>\n",
       "    <tr>\n",
       "      <th>1</th>\n",
       "      <td>b'tact us through the OECD Data Explorer (http...</td>\n",
       "    </tr>\n",
       "    <tr>\n",
       "      <th>2</th>\n",
       "      <td>b're details or exceptions.'</td>\n",
       "    </tr>\n",
       "  </tbody>\n",
       "</table>\n",
       "</div>"
      ],
      "text/plain": [
       "                                                   0\n",
       "0  b'You have exceeded the number of requests for...\n",
       "1  b'tact us through the OECD Data Explorer (http...\n",
       "2                       b're details or exceptions.'"
      ]
     },
     "execution_count": 146,
     "metadata": {},
     "output_type": "execute_result"
    }
   ],
   "source": [
    "# OECD\n",
    "\n",
    "OECD = \"https://sdmx.oecd.org/public/rest/data/OECD.STI.STP,DSD_MSTI@DF_MSTI,/.A.G+T_RS...?startPeriod=2020&format=csv\"\n",
    "data = requests.get(OECD)\n",
    "data\n",
    "\n",
    "pd.DataFrame(data)"
   ]
  },
  {
   "cell_type": "markdown",
   "metadata": {},
   "source": [
    "## Data\n",
    "---"
   ]
  },
  {
   "cell_type": "code",
   "execution_count": 5,
   "metadata": {},
   "outputs": [],
   "source": [
    "# Science Foundation Ireland Grant Committment List\n",
    "url = \"https://www.sfi.ie/about-us/governance/open-data/Open-Data-2023-11-30.csv\"\n",
    "sfi = pd.read_csv(url)\n"
   ]
  },
  {
   "cell_type": "markdown",
   "metadata": {},
   "source": [
    "## Examining the Data\n",
    "---"
   ]
  },
  {
   "cell_type": "code",
   "execution_count": 6,
   "metadata": {},
   "outputs": [
    {
     "data": {
      "text/html": [
       "<div>\n",
       "<style scoped>\n",
       "    .dataframe tbody tr th:only-of-type {\n",
       "        vertical-align: middle;\n",
       "    }\n",
       "\n",
       "    .dataframe tbody tr th {\n",
       "        vertical-align: top;\n",
       "    }\n",
       "\n",
       "    .dataframe thead th {\n",
       "        text-align: right;\n",
       "    }\n",
       "</style>\n",
       "<table border=\"1\" class=\"dataframe\">\n",
       "  <thead>\n",
       "    <tr style=\"text-align: right;\">\n",
       "      <th></th>\n",
       "      <th>Proposal ID</th>\n",
       "      <th>Programme Name</th>\n",
       "      <th>Sub-Programme</th>\n",
       "      <th>Supplement</th>\n",
       "      <th>Lead Applicant</th>\n",
       "      <th>ORCID</th>\n",
       "      <th>Research Body</th>\n",
       "      <th>Research Body ROR ID</th>\n",
       "      <th>Funder Name</th>\n",
       "      <th>Crossref Funder Registry ID</th>\n",
       "      <th>Proposal Title</th>\n",
       "      <th>Start Date</th>\n",
       "      <th>End Date</th>\n",
       "      <th>Current Total Commitment</th>\n",
       "    </tr>\n",
       "  </thead>\n",
       "  <tbody>\n",
       "    <tr>\n",
       "      <th>0</th>\n",
       "      <td>00/PI.1/B038</td>\n",
       "      <td>SFI Principal Investigator Programme</td>\n",
       "      <td>NaN</td>\n",
       "      <td>NaN</td>\n",
       "      <td>Seamus Martin</td>\n",
       "      <td>https://orcid.org/0000-0002-8539-3143</td>\n",
       "      <td>Trinity College Dublin (TCD)</td>\n",
       "      <td>https://ror.org/02tyrky19</td>\n",
       "      <td>Science Foundation Ireland</td>\n",
       "      <td>10.13039/501100001602</td>\n",
       "      <td>Establishing functional proteomic maps of prot...</td>\n",
       "      <td>2001-10-01</td>\n",
       "      <td>2007-03-31</td>\n",
       "      <td>5471668.03</td>\n",
       "    </tr>\n",
       "    <tr>\n",
       "      <th>1</th>\n",
       "      <td>00/PI.1/B045</td>\n",
       "      <td>SFI Principal Investigator Programme</td>\n",
       "      <td>NaN</td>\n",
       "      <td>NaN</td>\n",
       "      <td>Kingston Mills</td>\n",
       "      <td>https://orcid.org/0000-0003-3646-8222</td>\n",
       "      <td>Trinity College Dublin (TCD)</td>\n",
       "      <td>https://ror.org/02tyrky19</td>\n",
       "      <td>Science Foundation Ireland</td>\n",
       "      <td>10.13039/501100001602</td>\n",
       "      <td>Pathogen-derived immunomodulatory molecules: f...</td>\n",
       "      <td>2001-10-01</td>\n",
       "      <td>2006-12-04</td>\n",
       "      <td>8069351.7</td>\n",
       "    </tr>\n",
       "    <tr>\n",
       "      <th>2</th>\n",
       "      <td>00/PI.1/B045s1</td>\n",
       "      <td>SFI Equipment Call</td>\n",
       "      <td>NaN</td>\n",
       "      <td>Equipment Supplement</td>\n",
       "      <td>Kingston Mills</td>\n",
       "      <td>https://orcid.org/0000-0003-3646-8222</td>\n",
       "      <td>Trinity College Dublin (TCD)</td>\n",
       "      <td>https://ror.org/02tyrky19</td>\n",
       "      <td>Science Foundation Ireland</td>\n",
       "      <td>10.13039/501100001602</td>\n",
       "      <td>Equipment Supplement</td>\n",
       "      <td>2004-11-01</td>\n",
       "      <td>2005-04-30</td>\n",
       "      <td>387200</td>\n",
       "    </tr>\n",
       "  </tbody>\n",
       "</table>\n",
       "</div>"
      ],
      "text/plain": [
       "      Proposal ID                        Programme Name Sub-Programme  \\\n",
       "0    00/PI.1/B038  SFI Principal Investigator Programme           NaN   \n",
       "1    00/PI.1/B045  SFI Principal Investigator Programme           NaN   \n",
       "2  00/PI.1/B045s1                    SFI Equipment Call           NaN   \n",
       "\n",
       "             Supplement  Lead Applicant  \\\n",
       "0                   NaN   Seamus Martin   \n",
       "1                   NaN  Kingston Mills   \n",
       "2  Equipment Supplement  Kingston Mills   \n",
       "\n",
       "                                   ORCID                 Research Body  \\\n",
       "0  https://orcid.org/0000-0002-8539-3143  Trinity College Dublin (TCD)   \n",
       "1  https://orcid.org/0000-0003-3646-8222  Trinity College Dublin (TCD)   \n",
       "2  https://orcid.org/0000-0003-3646-8222  Trinity College Dublin (TCD)   \n",
       "\n",
       "        Research Body ROR ID                 Funder Name  \\\n",
       "0  https://ror.org/02tyrky19  Science Foundation Ireland   \n",
       "1  https://ror.org/02tyrky19  Science Foundation Ireland   \n",
       "2  https://ror.org/02tyrky19  Science Foundation Ireland   \n",
       "\n",
       "  Crossref Funder Registry ID  \\\n",
       "0       10.13039/501100001602   \n",
       "1       10.13039/501100001602   \n",
       "2       10.13039/501100001602   \n",
       "\n",
       "                                      Proposal Title  Start Date    End Date  \\\n",
       "0  Establishing functional proteomic maps of prot...  2001-10-01  2007-03-31   \n",
       "1  Pathogen-derived immunomodulatory molecules: f...  2001-10-01  2006-12-04   \n",
       "2                               Equipment Supplement  2004-11-01  2005-04-30   \n",
       "\n",
       "   Current Total Commitment   \n",
       "0                 5471668.03  \n",
       "1                  8069351.7  \n",
       "2                     387200  "
      ]
     },
     "execution_count": 6,
     "metadata": {},
     "output_type": "execute_result"
    }
   ],
   "source": [
    "sfi.head(3)"
   ]
  },
  {
   "cell_type": "code",
   "execution_count": 7,
   "metadata": {},
   "outputs": [
    {
     "data": {
      "text/html": [
       "<div>\n",
       "<style scoped>\n",
       "    .dataframe tbody tr th:only-of-type {\n",
       "        vertical-align: middle;\n",
       "    }\n",
       "\n",
       "    .dataframe tbody tr th {\n",
       "        vertical-align: top;\n",
       "    }\n",
       "\n",
       "    .dataframe thead th {\n",
       "        text-align: right;\n",
       "    }\n",
       "</style>\n",
       "<table border=\"1\" class=\"dataframe\">\n",
       "  <thead>\n",
       "    <tr style=\"text-align: right;\">\n",
       "      <th></th>\n",
       "      <th>Proposal ID</th>\n",
       "      <th>Programme Name</th>\n",
       "      <th>Sub-Programme</th>\n",
       "      <th>Supplement</th>\n",
       "      <th>Lead Applicant</th>\n",
       "      <th>ORCID</th>\n",
       "      <th>Research Body</th>\n",
       "      <th>Research Body ROR ID</th>\n",
       "      <th>Funder Name</th>\n",
       "      <th>Crossref Funder Registry ID</th>\n",
       "      <th>Proposal Title</th>\n",
       "      <th>Start Date</th>\n",
       "      <th>End Date</th>\n",
       "      <th>Current Total Commitment</th>\n",
       "    </tr>\n",
       "  </thead>\n",
       "  <tbody>\n",
       "    <tr>\n",
       "      <th>6935</th>\n",
       "      <td>TRA/2011/15</td>\n",
       "      <td>HRB-SFI Translational Research Award</td>\n",
       "      <td>NaN</td>\n",
       "      <td>NaN</td>\n",
       "      <td>Timothy O'Brien</td>\n",
       "      <td>https://orcid.org/0000-0001-9028-5481</td>\n",
       "      <td>Health Research Board (HRB)</td>\n",
       "      <td>https://ror.org/003hb2249</td>\n",
       "      <td>Science Foundation Ireland</td>\n",
       "      <td>10.13039/501100001602</td>\n",
       "      <td>Limb salvage using mesenchymal stem cell induc...</td>\n",
       "      <td>2014-05-01</td>\n",
       "      <td>2017-06-30</td>\n",
       "      <td>525734.3</td>\n",
       "    </tr>\n",
       "    <tr>\n",
       "      <th>6936</th>\n",
       "      <td>TRA/2011/19</td>\n",
       "      <td>HRB-SFI Translational Research Award</td>\n",
       "      <td>NaN</td>\n",
       "      <td>NaN</td>\n",
       "      <td>Fergal O'Brien</td>\n",
       "      <td>https://orcid.org/0000-0003-2030-8005</td>\n",
       "      <td>Health Research Board (HRB)</td>\n",
       "      <td>https://ror.org/003hb2249</td>\n",
       "      <td>Science Foundation Ireland</td>\n",
       "      <td>10.13039/501100001602</td>\n",
       "      <td>Translation of novel strategies for joint repa...</td>\n",
       "      <td>2012-07-01</td>\n",
       "      <td>2017-06-30</td>\n",
       "      <td>640504</td>\n",
       "    </tr>\n",
       "    <tr>\n",
       "      <th>6937</th>\n",
       "      <td>TRA/2011/33</td>\n",
       "      <td>HRB-SFI Translational Research Award</td>\n",
       "      <td>NaN</td>\n",
       "      <td>NaN</td>\n",
       "      <td>Paul McLoughlin</td>\n",
       "      <td>https://orcid.org/0000-0001-6200-016X</td>\n",
       "      <td>Health Research Board (HRB)</td>\n",
       "      <td>https://ror.org/003hb2249</td>\n",
       "      <td>Science Foundation Ireland</td>\n",
       "      <td>10.13039/501100001602</td>\n",
       "      <td>Targeting gremlin in the diagnosis and treatme...</td>\n",
       "      <td>2013-05-01</td>\n",
       "      <td>2017-04-30</td>\n",
       "      <td>205934.5</td>\n",
       "    </tr>\n",
       "  </tbody>\n",
       "</table>\n",
       "</div>"
      ],
      "text/plain": [
       "      Proposal ID                        Programme Name Sub-Programme  \\\n",
       "6935  TRA/2011/15  HRB-SFI Translational Research Award           NaN   \n",
       "6936  TRA/2011/19  HRB-SFI Translational Research Award           NaN   \n",
       "6937  TRA/2011/33  HRB-SFI Translational Research Award           NaN   \n",
       "\n",
       "     Supplement   Lead Applicant                                  ORCID  \\\n",
       "6935        NaN  Timothy O'Brien  https://orcid.org/0000-0001-9028-5481   \n",
       "6936        NaN   Fergal O'Brien  https://orcid.org/0000-0003-2030-8005   \n",
       "6937        NaN  Paul McLoughlin  https://orcid.org/0000-0001-6200-016X   \n",
       "\n",
       "                    Research Body       Research Body ROR ID  \\\n",
       "6935  Health Research Board (HRB)  https://ror.org/003hb2249   \n",
       "6936  Health Research Board (HRB)  https://ror.org/003hb2249   \n",
       "6937  Health Research Board (HRB)  https://ror.org/003hb2249   \n",
       "\n",
       "                     Funder Name Crossref Funder Registry ID  \\\n",
       "6935  Science Foundation Ireland       10.13039/501100001602   \n",
       "6936  Science Foundation Ireland       10.13039/501100001602   \n",
       "6937  Science Foundation Ireland       10.13039/501100001602   \n",
       "\n",
       "                                         Proposal Title  Start Date  \\\n",
       "6935  Limb salvage using mesenchymal stem cell induc...  2014-05-01   \n",
       "6936  Translation of novel strategies for joint repa...  2012-07-01   \n",
       "6937  Targeting gremlin in the diagnosis and treatme...  2013-05-01   \n",
       "\n",
       "        End Date  Current Total Commitment   \n",
       "6935  2017-06-30                   525734.3  \n",
       "6936  2017-06-30                     640504  \n",
       "6937  2017-04-30                   205934.5  "
      ]
     },
     "execution_count": 7,
     "metadata": {},
     "output_type": "execute_result"
    }
   ],
   "source": [
    "sfi.tail(3)"
   ]
  },
  {
   "cell_type": "code",
   "execution_count": 8,
   "metadata": {},
   "outputs": [
    {
     "name": "stdout",
     "output_type": "stream",
     "text": [
      "<class 'pandas.core.frame.DataFrame'>\n",
      "RangeIndex: 6938 entries, 0 to 6937\n",
      "Data columns (total 14 columns):\n",
      " #   Column                       Non-Null Count  Dtype \n",
      "---  ------                       --------------  ----- \n",
      " 0   Proposal ID                  6938 non-null   object\n",
      " 1   Programme Name               6938 non-null   object\n",
      " 2   Sub-Programme                2307 non-null   object\n",
      " 3   Supplement                   1257 non-null   object\n",
      " 4   Lead Applicant               6938 non-null   object\n",
      " 5   ORCID                        5169 non-null   object\n",
      " 6   Research Body                6938 non-null   object\n",
      " 7   Research Body ROR ID         6637 non-null   object\n",
      " 8   Funder Name                  6938 non-null   object\n",
      " 9   Crossref Funder Registry ID  6938 non-null   object\n",
      " 10  Proposal Title               6936 non-null   object\n",
      " 11  Start Date                   6938 non-null   object\n",
      " 12  End Date                     6938 non-null   object\n",
      " 13   Current Total Commitment    6938 non-null   object\n",
      "dtypes: object(14)\n",
      "memory usage: 759.0+ KB\n"
     ]
    }
   ],
   "source": [
    "sfi.info()"
   ]
  },
  {
   "cell_type": "code",
   "execution_count": 9,
   "metadata": {},
   "outputs": [],
   "source": [
    "sfi['Start Date'] = pd.to_datetime(sfi['Start Date'])\n",
    "sfi['End Date'] = pd.to_datetime(sfi['End Date'])\n",
    "sfi[' Current Total Commitment '] = sfi[' Current Total Commitment '].astype(str)"
   ]
  },
  {
   "cell_type": "markdown",
   "metadata": {},
   "source": [
    "## ORCID adoption amoung SFI researchers\n",
    "---"
   ]
  },
  {
   "cell_type": "code",
   "execution_count": 10,
   "metadata": {},
   "outputs": [
    {
     "data": {
      "text/plain": [
       "0       https://orcid.org/0000-0002-8539-3143\n",
       "1       https://orcid.org/0000-0003-3646-8222\n",
       "2       https://orcid.org/0000-0003-3646-8222\n",
       "3       https://orcid.org/0000-0003-4992-4979\n",
       "4                                         NaN\n",
       "                        ...                  \n",
       "6933    https://orcid.org/0000-0001-5445-1016\n",
       "6934    https://orcid.org/0000-0002-7871-6477\n",
       "6935    https://orcid.org/0000-0001-9028-5481\n",
       "6936    https://orcid.org/0000-0003-2030-8005\n",
       "6937    https://orcid.org/0000-0001-6200-016X\n",
       "Name: ORCID, Length: 6938, dtype: object"
      ]
     },
     "execution_count": 10,
     "metadata": {},
     "output_type": "execute_result"
    }
   ],
   "source": [
    "OID = sfi['ORCID']\n",
    "OID"
   ]
  },
  {
   "cell_type": "code",
   "execution_count": 11,
   "metadata": {},
   "outputs": [
    {
     "name": "stdout",
     "output_type": "stream",
     "text": [
      "Number of SFI Reseachers without an ORCiD: 1769\n",
      "Number of SFI Reseachers with an ORCiD: 5169\n"
     ]
    }
   ],
   "source": [
    "OIN = OID.isna()\n",
    "OINS = OIN.sum()\n",
    "print(\"Number of SFI Reseachers without an ORCiD:\", OINS)\n",
    "\n",
    "ONN = OID.notnull()\n",
    "ONNS = ONN.sum()\n",
    "print(\"Number of SFI Reseachers with an ORCiD:\", ONNS)\n"
   ]
  },
  {
   "cell_type": "code",
   "execution_count": null,
   "metadata": {},
   "outputs": [
    {
     "data": {
      "text/plain": [
       "Text(0.5, 1.0, 'Percentage of Historical SFI Grant Holders with an ORCiD')"
      ]
     },
     "execution_count": 15,
     "metadata": {},
     "output_type": "execute_result"
    },
    {
     "data": {
      "image/png": "[encoded data removed]",
      "text/plain": [
       "<Figure size 640x480 with 1 Axes>"
      ]
     },
     "metadata": {},
     "output_type": "display_data"
    }
   ],
   "source": [
    "#define data\n",
    "data = [OINS, ONNS]\n",
    "labels = ['Researchers without ORCiDs', 'Researchers with ORCiDs']\n",
    "explode = (0, 0.05)\n",
    "\n",
    "#define Seaborn color palette to use\n",
    "colors = sns.color_palette('pastel')[0:5]\n",
    "\n",
    "#create pie chart\n",
    "plt.pie(data, explode=explode, colors = colors, autopct='%.0f%%', shadow={'ox': -0.04, 'edgecolor': 'none', 'shade': 0.9}, startangle=90)\n",
    "plt.legend(labels, loc='best', bbox_to_anchor=(0, 0., 0.5, 0))\n",
    "plt.title('Percentage of Historical SFI Grant Holders with an ORCiD', fontweight='bold', style='italic', family='monospace', loc = 'center') \n"
   ]
  },
  {
   "cell_type": "code",
   "execution_count": null,
   "metadata": {},
   "outputs": [],
   "source": [
    "# Grouping the data into date blocks for analysis\n",
    "SD = sfi['Start Date']\n",
    "ONNY = ONN.groupby(SD.dt.year).sum()\n",
    "OINY = OIN.groupby(SD.dt.year).sum()\n",
    "\n",
    "# Adding in date ranges, as there is only partial data for 2024\n",
    "dateFrom = \"2000\"\n",
    "dateTo = \"2023\""
   ]
  },
  {
   "cell_type": "code",
   "execution_count": 94,
   "metadata": {},
   "outputs": [
    {
     "data": {
      "image/png": "[encoded data removed]",
      "text/plain": [
       "<Figure size 640x480 with 1 Axes>"
      ]
     },
     "metadata": {},
     "output_type": "display_data"
    }
   ],
   "source": [
    "# Charting the ORCiD data\n",
    "\n",
    "plt1, = plt.plot(ONNY.loc[dateFrom:dateTo], marker='.', color='sandybrown')\n",
    "plt2, = plt.plot(OINY.loc[dateFrom:dateTo], marker='.', color='lightsteelblue')\n",
    "plt.xlabel(\"Number of New Award Holders\")\n",
    "plt.ylabel(\"Year\")\n",
    "plt.legend([plt1,plt2],[\"With\", \"Without\"], loc = 'upper left')\n",
    "plt.grid(color='lightgrey', linestyle='-', linewidth=0.3)\n",
    "plt.title('Number of New Award Holders with ORCiDs vs those without', fontweight='bold', style='italic', family='monospace', loc = 'left')\n",
    "plt.show()\n"
   ]
  },
  {
   "cell_type": "markdown",
   "metadata": {},
   "source": [
    "# END"
   ]
  }
 ],
 "metadata": {
  "kernelspec": {
   "display_name": "Python 3",
   "language": "python",
   "name": "python3"
  },
  "language_info": {
   "codemirror_mode": {
    "name": "ipython",
    "version": 3
   },
   "file_extension": ".py",
   "mimetype": "text/x-python",
   "name": "python",
   "nbconvert_exporter": "python",
   "pygments_lexer": "ipython3",
   "version": "3.12.1"
  }
 },
 "nbformat": 4,
 "nbformat_minor": 2
}
