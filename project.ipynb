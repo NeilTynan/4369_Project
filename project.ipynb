{
 "cells": [
  {
   "cell_type": "markdown",
   "metadata": {},
   "source": []
  },
  {
   "cell_type": "markdown",
   "metadata": {},
   "source": [
    "# Examining SFI's Funding Portfolio\n",
    "*by Neil Tynan @ATU*\n",
    "\n",
    "![Science foundation Ireland](https://external-content.duckduckgo.com/iu/?u=https%3A%2F%2Fwww.sfi.ie%2Fsfi-logo-and-guidelines%2FSFI_logo_2016__master_colour_Boarder.jpg&f=1&nofb=1&ipt=00fae12be8242a03daccb98a3f01f7dd576cb3e81cc0557cd78526531ffdf107&ipo=images)\n",
    "###### *“Logo provided by @science_foundation_ireland”*"
   ]
  },
  {
   "cell_type": "markdown",
   "metadata": {},
   "source": [
    "This assignment looks at building a pie chart to examine the email domains of users in a sample file."
   ]
  },
  {
   "cell_type": "markdown",
   "metadata": {},
   "source": [
    "## Import Libraries\n",
    "---"
   ]
  },
  {
   "cell_type": "code",
   "execution_count": null,
   "metadata": {},
   "outputs": [],
   "source": [
    "import pandas as pd\n",
    "import matplotlib.pyplot as plt\n",
    "import seaborn as sns\n",
    "import datetime"
   ]
  }
 ],
 "metadata": {
  "language_info": {
   "name": "python"
  }
 },
 "nbformat": 4,
 "nbformat_minor": 2
}
